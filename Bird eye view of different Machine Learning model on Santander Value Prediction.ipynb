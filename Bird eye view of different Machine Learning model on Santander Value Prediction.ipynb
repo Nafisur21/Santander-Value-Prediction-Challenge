{
 "cells": [
  {
   "cell_type": "markdown",
   "metadata": {},
   "source": [
    "# Nafisur Rahman<br>\n"
   ]
  },
  {
   "cell_type": "markdown",
   "metadata": {},
   "source": [
    "# Santander Value Prediction Challenge\n",
    "   Predict the value of transactions for potential customers."
   ]
  },
  {
   "cell_type": "markdown",
   "metadata": {},
   "source": [
    "# Loading libraries and Dataset"
   ]
  },
  {
   "cell_type": "code",
   "execution_count": 1,
   "metadata": {},
   "outputs": [],
   "source": [
    "import pandas as pd\n",
    "import numpy as np\n",
    "import matplotlib.pyplot as plt\n",
    "from sklearn.model_selection import GridSearchCV,KFold,train_test_split\n",
    "from sklearn.decomposition import PCA\n",
    "from sklearn.preprocessing import MinMaxScaler\n",
    "from sklearn.metrics import mean_squared_log_error,mean_squared_error\n",
    "from catboost import CatBoostRegressor\n",
    "from sklearn.ensemble import RandomForestRegressor\n",
    "import lightgbm\n",
    "\n",
    "%matplotlib inline"
   ]
  },
  {
   "cell_type": "code",
   "execution_count": 2,
   "metadata": {},
   "outputs": [],
   "source": [
    "df_train=pd.read_csv('../1.All_datasets/Santander_Value_Prediction_Challenge/train.csv')\n",
    "df_test=pd.read_csv('../1.All_datasets/Santander_Value_Prediction_Challenge/test.csv')"
   ]
  },
  {
   "cell_type": "code",
   "execution_count": 3,
   "metadata": {},
   "outputs": [
    {
     "name": "stdout",
     "output_type": "stream",
     "text": [
      "Shape of training dataset:  (4459, 4993)\n"
     ]
    },
    {
     "data": {
      "text/html": [
       "<div>\n",
       "<style scoped>\n",
       "    .dataframe tbody tr th:only-of-type {\n",
       "        vertical-align: middle;\n",
       "    }\n",
       "\n",
       "    .dataframe tbody tr th {\n",
       "        vertical-align: top;\n",
       "    }\n",
       "\n",
       "    .dataframe thead th {\n",
       "        text-align: right;\n",
       "    }\n",
       "</style>\n",
       "<table border=\"1\" class=\"dataframe\">\n",
       "  <thead>\n",
       "    <tr style=\"text-align: right;\">\n",
       "      <th></th>\n",
       "      <th>ID</th>\n",
       "      <th>target</th>\n",
       "      <th>48df886f9</th>\n",
       "      <th>0deb4b6a8</th>\n",
       "      <th>34b15f335</th>\n",
       "      <th>a8cb14b00</th>\n",
       "      <th>2f0771a37</th>\n",
       "      <th>30347e683</th>\n",
       "      <th>d08d1fbe3</th>\n",
       "      <th>6ee66e115</th>\n",
       "      <th>...</th>\n",
       "      <th>3ecc09859</th>\n",
       "      <th>9281abeea</th>\n",
       "      <th>8675bec0b</th>\n",
       "      <th>3a13ed79a</th>\n",
       "      <th>f677d4d13</th>\n",
       "      <th>71b203550</th>\n",
       "      <th>137efaa80</th>\n",
       "      <th>fb36b89d9</th>\n",
       "      <th>7e293fbaf</th>\n",
       "      <th>9fc776466</th>\n",
       "    </tr>\n",
       "  </thead>\n",
       "  <tbody>\n",
       "    <tr>\n",
       "      <th>0</th>\n",
       "      <td>000d6aaf2</td>\n",
       "      <td>38000000.0</td>\n",
       "      <td>0.0</td>\n",
       "      <td>0</td>\n",
       "      <td>0.0</td>\n",
       "      <td>0</td>\n",
       "      <td>0</td>\n",
       "      <td>0</td>\n",
       "      <td>0</td>\n",
       "      <td>0</td>\n",
       "      <td>...</td>\n",
       "      <td>0.0</td>\n",
       "      <td>0.0</td>\n",
       "      <td>0.0</td>\n",
       "      <td>0</td>\n",
       "      <td>0</td>\n",
       "      <td>0</td>\n",
       "      <td>0</td>\n",
       "      <td>0</td>\n",
       "      <td>0</td>\n",
       "      <td>0</td>\n",
       "    </tr>\n",
       "    <tr>\n",
       "      <th>1</th>\n",
       "      <td>000fbd867</td>\n",
       "      <td>600000.0</td>\n",
       "      <td>0.0</td>\n",
       "      <td>0</td>\n",
       "      <td>0.0</td>\n",
       "      <td>0</td>\n",
       "      <td>0</td>\n",
       "      <td>0</td>\n",
       "      <td>0</td>\n",
       "      <td>0</td>\n",
       "      <td>...</td>\n",
       "      <td>0.0</td>\n",
       "      <td>0.0</td>\n",
       "      <td>0.0</td>\n",
       "      <td>0</td>\n",
       "      <td>0</td>\n",
       "      <td>0</td>\n",
       "      <td>0</td>\n",
       "      <td>0</td>\n",
       "      <td>0</td>\n",
       "      <td>0</td>\n",
       "    </tr>\n",
       "    <tr>\n",
       "      <th>2</th>\n",
       "      <td>0027d6b71</td>\n",
       "      <td>10000000.0</td>\n",
       "      <td>0.0</td>\n",
       "      <td>0</td>\n",
       "      <td>0.0</td>\n",
       "      <td>0</td>\n",
       "      <td>0</td>\n",
       "      <td>0</td>\n",
       "      <td>0</td>\n",
       "      <td>0</td>\n",
       "      <td>...</td>\n",
       "      <td>0.0</td>\n",
       "      <td>0.0</td>\n",
       "      <td>0.0</td>\n",
       "      <td>0</td>\n",
       "      <td>0</td>\n",
       "      <td>0</td>\n",
       "      <td>0</td>\n",
       "      <td>0</td>\n",
       "      <td>0</td>\n",
       "      <td>0</td>\n",
       "    </tr>\n",
       "    <tr>\n",
       "      <th>3</th>\n",
       "      <td>0028cbf45</td>\n",
       "      <td>2000000.0</td>\n",
       "      <td>0.0</td>\n",
       "      <td>0</td>\n",
       "      <td>0.0</td>\n",
       "      <td>0</td>\n",
       "      <td>0</td>\n",
       "      <td>0</td>\n",
       "      <td>0</td>\n",
       "      <td>0</td>\n",
       "      <td>...</td>\n",
       "      <td>0.0</td>\n",
       "      <td>0.0</td>\n",
       "      <td>0.0</td>\n",
       "      <td>0</td>\n",
       "      <td>0</td>\n",
       "      <td>0</td>\n",
       "      <td>0</td>\n",
       "      <td>0</td>\n",
       "      <td>0</td>\n",
       "      <td>0</td>\n",
       "    </tr>\n",
       "    <tr>\n",
       "      <th>4</th>\n",
       "      <td>002a68644</td>\n",
       "      <td>14400000.0</td>\n",
       "      <td>0.0</td>\n",
       "      <td>0</td>\n",
       "      <td>0.0</td>\n",
       "      <td>0</td>\n",
       "      <td>0</td>\n",
       "      <td>0</td>\n",
       "      <td>0</td>\n",
       "      <td>0</td>\n",
       "      <td>...</td>\n",
       "      <td>0.0</td>\n",
       "      <td>0.0</td>\n",
       "      <td>0.0</td>\n",
       "      <td>0</td>\n",
       "      <td>0</td>\n",
       "      <td>0</td>\n",
       "      <td>0</td>\n",
       "      <td>0</td>\n",
       "      <td>0</td>\n",
       "      <td>0</td>\n",
       "    </tr>\n",
       "  </tbody>\n",
       "</table>\n",
       "<p>5 rows × 4993 columns</p>\n",
       "</div>"
      ],
      "text/plain": [
       "          ID      target  48df886f9  0deb4b6a8  34b15f335  a8cb14b00  \\\n",
       "0  000d6aaf2  38000000.0        0.0          0        0.0          0   \n",
       "1  000fbd867    600000.0        0.0          0        0.0          0   \n",
       "2  0027d6b71  10000000.0        0.0          0        0.0          0   \n",
       "3  0028cbf45   2000000.0        0.0          0        0.0          0   \n",
       "4  002a68644  14400000.0        0.0          0        0.0          0   \n",
       "\n",
       "   2f0771a37  30347e683  d08d1fbe3  6ee66e115    ...      3ecc09859  \\\n",
       "0          0          0          0          0    ...            0.0   \n",
       "1          0          0          0          0    ...            0.0   \n",
       "2          0          0          0          0    ...            0.0   \n",
       "3          0          0          0          0    ...            0.0   \n",
       "4          0          0          0          0    ...            0.0   \n",
       "\n",
       "   9281abeea  8675bec0b  3a13ed79a  f677d4d13  71b203550  137efaa80  \\\n",
       "0        0.0        0.0          0          0          0          0   \n",
       "1        0.0        0.0          0          0          0          0   \n",
       "2        0.0        0.0          0          0          0          0   \n",
       "3        0.0        0.0          0          0          0          0   \n",
       "4        0.0        0.0          0          0          0          0   \n",
       "\n",
       "   fb36b89d9  7e293fbaf  9fc776466  \n",
       "0          0          0          0  \n",
       "1          0          0          0  \n",
       "2          0          0          0  \n",
       "3          0          0          0  \n",
       "4          0          0          0  \n",
       "\n",
       "[5 rows x 4993 columns]"
      ]
     },
     "execution_count": 3,
     "metadata": {},
     "output_type": "execute_result"
    }
   ],
   "source": [
    "print('Shape of training dataset: ',df_train.shape)\n",
    "df_train.head()"
   ]
  },
  {
   "cell_type": "code",
   "execution_count": 4,
   "metadata": {},
   "outputs": [
    {
     "name": "stdout",
     "output_type": "stream",
     "text": [
      "Shape of test dataset:  (49342, 4992)\n"
     ]
    },
    {
     "data": {
      "text/html": [
       "<div>\n",
       "<style scoped>\n",
       "    .dataframe tbody tr th:only-of-type {\n",
       "        vertical-align: middle;\n",
       "    }\n",
       "\n",
       "    .dataframe tbody tr th {\n",
       "        vertical-align: top;\n",
       "    }\n",
       "\n",
       "    .dataframe thead th {\n",
       "        text-align: right;\n",
       "    }\n",
       "</style>\n",
       "<table border=\"1\" class=\"dataframe\">\n",
       "  <thead>\n",
       "    <tr style=\"text-align: right;\">\n",
       "      <th></th>\n",
       "      <th>ID</th>\n",
       "      <th>48df886f9</th>\n",
       "      <th>0deb4b6a8</th>\n",
       "      <th>34b15f335</th>\n",
       "      <th>a8cb14b00</th>\n",
       "      <th>2f0771a37</th>\n",
       "      <th>30347e683</th>\n",
       "      <th>d08d1fbe3</th>\n",
       "      <th>6ee66e115</th>\n",
       "      <th>20aa07010</th>\n",
       "      <th>...</th>\n",
       "      <th>3ecc09859</th>\n",
       "      <th>9281abeea</th>\n",
       "      <th>8675bec0b</th>\n",
       "      <th>3a13ed79a</th>\n",
       "      <th>f677d4d13</th>\n",
       "      <th>71b203550</th>\n",
       "      <th>137efaa80</th>\n",
       "      <th>fb36b89d9</th>\n",
       "      <th>7e293fbaf</th>\n",
       "      <th>9fc776466</th>\n",
       "    </tr>\n",
       "  </thead>\n",
       "  <tbody>\n",
       "    <tr>\n",
       "      <th>0</th>\n",
       "      <td>000137c73</td>\n",
       "      <td>0.0</td>\n",
       "      <td>0.0</td>\n",
       "      <td>0.0</td>\n",
       "      <td>0.0</td>\n",
       "      <td>0.0</td>\n",
       "      <td>0.0</td>\n",
       "      <td>0.0</td>\n",
       "      <td>0.0</td>\n",
       "      <td>0.0</td>\n",
       "      <td>...</td>\n",
       "      <td>0.0</td>\n",
       "      <td>0.0</td>\n",
       "      <td>0.0</td>\n",
       "      <td>0.0</td>\n",
       "      <td>0.0</td>\n",
       "      <td>0.0</td>\n",
       "      <td>0.0</td>\n",
       "      <td>0.0</td>\n",
       "      <td>0.0</td>\n",
       "      <td>0.0</td>\n",
       "    </tr>\n",
       "    <tr>\n",
       "      <th>1</th>\n",
       "      <td>00021489f</td>\n",
       "      <td>0.0</td>\n",
       "      <td>0.0</td>\n",
       "      <td>0.0</td>\n",
       "      <td>0.0</td>\n",
       "      <td>0.0</td>\n",
       "      <td>0.0</td>\n",
       "      <td>0.0</td>\n",
       "      <td>0.0</td>\n",
       "      <td>0.0</td>\n",
       "      <td>...</td>\n",
       "      <td>0.0</td>\n",
       "      <td>0.0</td>\n",
       "      <td>0.0</td>\n",
       "      <td>0.0</td>\n",
       "      <td>0.0</td>\n",
       "      <td>0.0</td>\n",
       "      <td>0.0</td>\n",
       "      <td>0.0</td>\n",
       "      <td>0.0</td>\n",
       "      <td>0.0</td>\n",
       "    </tr>\n",
       "    <tr>\n",
       "      <th>2</th>\n",
       "      <td>0004d7953</td>\n",
       "      <td>0.0</td>\n",
       "      <td>0.0</td>\n",
       "      <td>0.0</td>\n",
       "      <td>0.0</td>\n",
       "      <td>0.0</td>\n",
       "      <td>0.0</td>\n",
       "      <td>0.0</td>\n",
       "      <td>0.0</td>\n",
       "      <td>0.0</td>\n",
       "      <td>...</td>\n",
       "      <td>0.0</td>\n",
       "      <td>0.0</td>\n",
       "      <td>0.0</td>\n",
       "      <td>0.0</td>\n",
       "      <td>0.0</td>\n",
       "      <td>0.0</td>\n",
       "      <td>0.0</td>\n",
       "      <td>0.0</td>\n",
       "      <td>0.0</td>\n",
       "      <td>0.0</td>\n",
       "    </tr>\n",
       "    <tr>\n",
       "      <th>3</th>\n",
       "      <td>00056a333</td>\n",
       "      <td>0.0</td>\n",
       "      <td>0.0</td>\n",
       "      <td>0.0</td>\n",
       "      <td>0.0</td>\n",
       "      <td>0.0</td>\n",
       "      <td>0.0</td>\n",
       "      <td>0.0</td>\n",
       "      <td>0.0</td>\n",
       "      <td>0.0</td>\n",
       "      <td>...</td>\n",
       "      <td>0.0</td>\n",
       "      <td>0.0</td>\n",
       "      <td>0.0</td>\n",
       "      <td>0.0</td>\n",
       "      <td>0.0</td>\n",
       "      <td>0.0</td>\n",
       "      <td>0.0</td>\n",
       "      <td>0.0</td>\n",
       "      <td>0.0</td>\n",
       "      <td>0.0</td>\n",
       "    </tr>\n",
       "    <tr>\n",
       "      <th>4</th>\n",
       "      <td>00056d8eb</td>\n",
       "      <td>0.0</td>\n",
       "      <td>0.0</td>\n",
       "      <td>0.0</td>\n",
       "      <td>0.0</td>\n",
       "      <td>0.0</td>\n",
       "      <td>0.0</td>\n",
       "      <td>0.0</td>\n",
       "      <td>0.0</td>\n",
       "      <td>0.0</td>\n",
       "      <td>...</td>\n",
       "      <td>0.0</td>\n",
       "      <td>0.0</td>\n",
       "      <td>0.0</td>\n",
       "      <td>0.0</td>\n",
       "      <td>0.0</td>\n",
       "      <td>0.0</td>\n",
       "      <td>0.0</td>\n",
       "      <td>0.0</td>\n",
       "      <td>0.0</td>\n",
       "      <td>0.0</td>\n",
       "    </tr>\n",
       "  </tbody>\n",
       "</table>\n",
       "<p>5 rows × 4992 columns</p>\n",
       "</div>"
      ],
      "text/plain": [
       "          ID  48df886f9  0deb4b6a8  34b15f335  a8cb14b00  2f0771a37  \\\n",
       "0  000137c73        0.0        0.0        0.0        0.0        0.0   \n",
       "1  00021489f        0.0        0.0        0.0        0.0        0.0   \n",
       "2  0004d7953        0.0        0.0        0.0        0.0        0.0   \n",
       "3  00056a333        0.0        0.0        0.0        0.0        0.0   \n",
       "4  00056d8eb        0.0        0.0        0.0        0.0        0.0   \n",
       "\n",
       "   30347e683  d08d1fbe3  6ee66e115  20aa07010    ...      3ecc09859  \\\n",
       "0        0.0        0.0        0.0        0.0    ...            0.0   \n",
       "1        0.0        0.0        0.0        0.0    ...            0.0   \n",
       "2        0.0        0.0        0.0        0.0    ...            0.0   \n",
       "3        0.0        0.0        0.0        0.0    ...            0.0   \n",
       "4        0.0        0.0        0.0        0.0    ...            0.0   \n",
       "\n",
       "   9281abeea  8675bec0b  3a13ed79a  f677d4d13  71b203550  137efaa80  \\\n",
       "0        0.0        0.0        0.0        0.0        0.0        0.0   \n",
       "1        0.0        0.0        0.0        0.0        0.0        0.0   \n",
       "2        0.0        0.0        0.0        0.0        0.0        0.0   \n",
       "3        0.0        0.0        0.0        0.0        0.0        0.0   \n",
       "4        0.0        0.0        0.0        0.0        0.0        0.0   \n",
       "\n",
       "   fb36b89d9  7e293fbaf  9fc776466  \n",
       "0        0.0        0.0        0.0  \n",
       "1        0.0        0.0        0.0  \n",
       "2        0.0        0.0        0.0  \n",
       "3        0.0        0.0        0.0  \n",
       "4        0.0        0.0        0.0  \n",
       "\n",
       "[5 rows x 4992 columns]"
      ]
     },
     "execution_count": 4,
     "metadata": {},
     "output_type": "execute_result"
    }
   ],
   "source": [
    "print('Shape of test dataset: ',df_test.shape)\n",
    "df_test.head()"
   ]
  },
  {
   "cell_type": "code",
   "execution_count": 5,
   "metadata": {},
   "outputs": [
    {
     "name": "stdout",
     "output_type": "stream",
     "text": [
      "<class 'pandas.core.frame.DataFrame'>\n",
      "RangeIndex: 4459 entries, 0 to 4458\n",
      "Columns: 4993 entries, ID to 9fc776466\n",
      "dtypes: float64(1845), int64(3147), object(1)\n",
      "memory usage: 169.9+ MB\n"
     ]
    }
   ],
   "source": [
    "df_train.info()"
   ]
  },
  {
   "cell_type": "code",
   "execution_count": 6,
   "metadata": {},
   "outputs": [
    {
     "name": "stdout",
     "output_type": "stream",
     "text": [
      "<class 'pandas.core.frame.DataFrame'>\n",
      "RangeIndex: 49342 entries, 0 to 49341\n",
      "Columns: 4992 entries, ID to 9fc776466\n",
      "dtypes: float64(4991), object(1)\n",
      "memory usage: 1.8+ GB\n"
     ]
    }
   ],
   "source": [
    "df_test.info()"
   ]
  },
  {
   "cell_type": "markdown",
   "metadata": {},
   "source": [
    "## Checking Missing Values"
   ]
  },
  {
   "cell_type": "markdown",
   "metadata": {},
   "source": [
    "Defining function to check missing values and percentage of missing values in each column."
   ]
  },
  {
   "cell_type": "code",
   "execution_count": 7,
   "metadata": {},
   "outputs": [],
   "source": [
    "def check_missing_data(df):\n",
    "    total=df.isnull().sum().sort_values(ascending=False)\n",
    "    percent=((df.isnull().sum()/df.isnull().count())*100).sort_values(ascending=False)\n",
    "    return pd.concat([total,percent],axis=1,keys=['Total','Percent'])"
   ]
  },
  {
   "cell_type": "code",
   "execution_count": 8,
   "metadata": {},
   "outputs": [
    {
     "data": {
      "text/html": [
       "<div>\n",
       "<style scoped>\n",
       "    .dataframe tbody tr th:only-of-type {\n",
       "        vertical-align: middle;\n",
       "    }\n",
       "\n",
       "    .dataframe tbody tr th {\n",
       "        vertical-align: top;\n",
       "    }\n",
       "\n",
       "    .dataframe thead th {\n",
       "        text-align: right;\n",
       "    }\n",
       "</style>\n",
       "<table border=\"1\" class=\"dataframe\">\n",
       "  <thead>\n",
       "    <tr style=\"text-align: right;\">\n",
       "      <th></th>\n",
       "      <th>Total</th>\n",
       "      <th>Percent</th>\n",
       "    </tr>\n",
       "  </thead>\n",
       "  <tbody>\n",
       "    <tr>\n",
       "      <th>9fc776466</th>\n",
       "      <td>0</td>\n",
       "      <td>0.0</td>\n",
       "    </tr>\n",
       "    <tr>\n",
       "      <th>083640132</th>\n",
       "      <td>0</td>\n",
       "      <td>0.0</td>\n",
       "    </tr>\n",
       "    <tr>\n",
       "      <th>26e2c24e3</th>\n",
       "      <td>0</td>\n",
       "      <td>0.0</td>\n",
       "    </tr>\n",
       "    <tr>\n",
       "      <th>c3726f249</th>\n",
       "      <td>0</td>\n",
       "      <td>0.0</td>\n",
       "    </tr>\n",
       "    <tr>\n",
       "      <th>a682ef110</th>\n",
       "      <td>0</td>\n",
       "      <td>0.0</td>\n",
       "    </tr>\n",
       "  </tbody>\n",
       "</table>\n",
       "</div>"
      ],
      "text/plain": [
       "           Total  Percent\n",
       "9fc776466      0      0.0\n",
       "083640132      0      0.0\n",
       "26e2c24e3      0      0.0\n",
       "c3726f249      0      0.0\n",
       "a682ef110      0      0.0"
      ]
     },
     "execution_count": 8,
     "metadata": {},
     "output_type": "execute_result"
    }
   ],
   "source": [
    "check_missing_data(df_train).head()"
   ]
  },
  {
   "cell_type": "code",
   "execution_count": 9,
   "metadata": {},
   "outputs": [
    {
     "data": {
      "text/html": [
       "<div>\n",
       "<style scoped>\n",
       "    .dataframe tbody tr th:only-of-type {\n",
       "        vertical-align: middle;\n",
       "    }\n",
       "\n",
       "    .dataframe tbody tr th {\n",
       "        vertical-align: top;\n",
       "    }\n",
       "\n",
       "    .dataframe thead th {\n",
       "        text-align: right;\n",
       "    }\n",
       "</style>\n",
       "<table border=\"1\" class=\"dataframe\">\n",
       "  <thead>\n",
       "    <tr style=\"text-align: right;\">\n",
       "      <th></th>\n",
       "      <th>Total</th>\n",
       "      <th>Percent</th>\n",
       "    </tr>\n",
       "  </thead>\n",
       "  <tbody>\n",
       "    <tr>\n",
       "      <th>9fc776466</th>\n",
       "      <td>0</td>\n",
       "      <td>0.0</td>\n",
       "    </tr>\n",
       "    <tr>\n",
       "      <th>f0aa40974</th>\n",
       "      <td>0</td>\n",
       "      <td>0.0</td>\n",
       "    </tr>\n",
       "    <tr>\n",
       "      <th>c3726f249</th>\n",
       "      <td>0</td>\n",
       "      <td>0.0</td>\n",
       "    </tr>\n",
       "    <tr>\n",
       "      <th>a682ef110</th>\n",
       "      <td>0</td>\n",
       "      <td>0.0</td>\n",
       "    </tr>\n",
       "    <tr>\n",
       "      <th>b452ba57e</th>\n",
       "      <td>0</td>\n",
       "      <td>0.0</td>\n",
       "    </tr>\n",
       "  </tbody>\n",
       "</table>\n",
       "</div>"
      ],
      "text/plain": [
       "           Total  Percent\n",
       "9fc776466      0      0.0\n",
       "f0aa40974      0      0.0\n",
       "c3726f249      0      0.0\n",
       "a682ef110      0      0.0\n",
       "b452ba57e      0      0.0"
      ]
     },
     "execution_count": 9,
     "metadata": {},
     "output_type": "execute_result"
    }
   ],
   "source": [
    "check_missing_data(df_test).head()"
   ]
  },
  {
   "cell_type": "markdown",
   "metadata": {},
   "source": [
    "# Checking Unique Value in each column\n",
    "Column with only one unique value is useless. There for we can drop these columns"
   ]
  },
  {
   "cell_type": "code",
   "execution_count": 10,
   "metadata": {},
   "outputs": [
    {
     "data": {
      "text/html": [
       "<div>\n",
       "<style scoped>\n",
       "    .dataframe tbody tr th:only-of-type {\n",
       "        vertical-align: middle;\n",
       "    }\n",
       "\n",
       "    .dataframe tbody tr th {\n",
       "        vertical-align: top;\n",
       "    }\n",
       "\n",
       "    .dataframe thead th {\n",
       "        text-align: right;\n",
       "    }\n",
       "</style>\n",
       "<table border=\"1\" class=\"dataframe\">\n",
       "  <thead>\n",
       "    <tr style=\"text-align: right;\">\n",
       "      <th></th>\n",
       "      <th>Column_name</th>\n",
       "      <th>num_unique_values</th>\n",
       "    </tr>\n",
       "  </thead>\n",
       "  <tbody>\n",
       "    <tr>\n",
       "      <th>0</th>\n",
       "      <td>d9a8615f3</td>\n",
       "      <td>1</td>\n",
       "    </tr>\n",
       "    <tr>\n",
       "      <th>1</th>\n",
       "      <td>4a64e56e7</td>\n",
       "      <td>1</td>\n",
       "    </tr>\n",
       "    <tr>\n",
       "      <th>2</th>\n",
       "      <td>34cc56e83</td>\n",
       "      <td>1</td>\n",
       "    </tr>\n",
       "    <tr>\n",
       "      <th>3</th>\n",
       "      <td>19122191d</td>\n",
       "      <td>1</td>\n",
       "    </tr>\n",
       "    <tr>\n",
       "      <th>4</th>\n",
       "      <td>080540c81</td>\n",
       "      <td>1</td>\n",
       "    </tr>\n",
       "  </tbody>\n",
       "</table>\n",
       "</div>"
      ],
      "text/plain": [
       "  Column_name  num_unique_values\n",
       "0   d9a8615f3                  1\n",
       "1   4a64e56e7                  1\n",
       "2   34cc56e83                  1\n",
       "3   19122191d                  1\n",
       "4   080540c81                  1"
      ]
     },
     "execution_count": 10,
     "metadata": {},
     "output_type": "execute_result"
    }
   ],
   "source": [
    "df_tmp=pd.DataFrame(df_train.nunique().sort_values(),columns=['num_unique_values']).reset_index().rename(columns={'index':'Column_name'})\n",
    "df_tmp.head()"
   ]
  },
  {
   "cell_type": "code",
   "execution_count": 11,
   "metadata": {},
   "outputs": [],
   "source": [
    "def col_name_with_n_unique_value(df,n):\n",
    "    df1=pd.DataFrame(df.nunique().sort_values(),columns=['num_unique_values']).reset_index()\n",
    "    col_name=list(df1[df1.num_unique_values==1]['index'])\n",
    "    print('number of columns with only',n,'unique values are: ',len(col_name))\n",
    "    return col_name"
   ]
  },
  {
   "cell_type": "code",
   "execution_count": 12,
   "metadata": {},
   "outputs": [
    {
     "name": "stdout",
     "output_type": "stream",
     "text": [
      "number of columns with only 1 unique values are:  256\n"
     ]
    }
   ],
   "source": [
    "col_to_drop=col_name_with_n_unique_value(df_train,1)"
   ]
  },
  {
   "cell_type": "markdown",
   "metadata": {},
   "source": [
    "### Droping unneccessary columns from train and test dataset"
   ]
  },
  {
   "cell_type": "code",
   "execution_count": 13,
   "metadata": {},
   "outputs": [
    {
     "name": "stdout",
     "output_type": "stream",
     "text": [
      "Shape of train dataset after droping columns:  (4459, 4737)\n",
      "Shape of test dataset after droping columns:  (49342, 4736)\n"
     ]
    }
   ],
   "source": [
    "df_train.drop(columns=col_to_drop,inplace=True)\n",
    "df_test.drop(columns=col_to_drop,inplace=True)\n",
    "print('Shape of train dataset after droping columns: ',df_train.shape)\n",
    "print('Shape of test dataset after droping columns: ',df_test.shape)"
   ]
  },
  {
   "cell_type": "markdown",
   "metadata": {},
   "source": [
    "# Getting Dataset in numpy ndarray format"
   ]
  },
  {
   "cell_type": "code",
   "execution_count": 14,
   "metadata": {},
   "outputs": [
    {
     "name": "stdout",
     "output_type": "stream",
     "text": [
      "Shape of train:  (4459, 4735)\n",
      "Shape of target:  (4459,)\n",
      "Shape of test:  (49342, 4735)\n"
     ]
    }
   ],
   "source": [
    "train=df_train.iloc[:,2:].values\n",
    "test=df_test.iloc[:,1:].values\n",
    "target=df_train.target.values\n",
    "print('Shape of train: ',train.shape)\n",
    "print('Shape of target: ',target.shape)\n",
    "print('Shape of test: ',test.shape)"
   ]
  },
  {
   "cell_type": "markdown",
   "metadata": {},
   "source": [
    "# Visualization of target Column"
   ]
  },
  {
   "cell_type": "code",
   "execution_count": 15,
   "metadata": {},
   "outputs": [
    {
     "data": {
      "image/png": "[encoded data removed]",
      "text/plain": [
       "<Figure size 432x288 with 1 Axes>"
      ]
     },
     "metadata": {},
     "output_type": "display_data"
    }
   ],
   "source": [
    "plt.hist(target, bins=20, color='c')\n",
    "plt.title('Histogram : Target')\n",
    "plt.xlabel('Bins')\n",
    "plt.ylabel('Counts')\n",
    "plt.show()"
   ]
  },
  {
   "cell_type": "markdown",
   "metadata": {},
   "source": [
    "Target values ranges from 0 to 4*1e7. there for taking log will reduce the range"
   ]
  },
  {
   "cell_type": "code",
   "execution_count": 16,
   "metadata": {},
   "outputs": [
    {
     "data": {
      "image/png": "[encoded data removed]",
      "text/plain": [
       "<Figure size 432x288 with 1 Axes>"
      ]
     },
     "metadata": {},
     "output_type": "display_data"
    }
   ],
   "source": [
    "t=np.log1p(target)\n",
    "plt.hist(t, bins=20, color='c')\n",
    "plt.title('Histogram : Target')\n",
    "plt.xlabel('Bins')\n",
    "plt.ylabel('Counts')\n",
    "plt.show()"
   ]
  },
  {
   "cell_type": "markdown",
   "metadata": {},
   "source": [
    "# Feature Scaling"
   ]
  },
  {
   "cell_type": "code",
   "execution_count": 17,
   "metadata": {},
   "outputs": [],
   "source": [
    "from sklearn.preprocessing import MinMaxScaler\n",
    "sc = MinMaxScaler(feature_range=(0,1))\n",
    "train_sc = sc.fit_transform(train)\n",
    "test_sc = sc.transform(test)"
   ]
  },
  {
   "cell_type": "markdown",
   "metadata": {},
   "source": [
    "# Splitting dataset into Train, val and Test set\n",
    "We split the dataset into train and val sets using an 80/20 split."
   ]
  },
  {
   "cell_type": "code",
   "execution_count": 18,
   "metadata": {},
   "outputs": [
    {
     "name": "stdout",
     "output_type": "stream",
     "text": [
      "(3567, 4735) (3567,)\n",
      "(892, 4735) (892,)\n",
      "(49342, 4735) (49342, 4735)\n"
     ]
    }
   ],
   "source": [
    "from sklearn.model_selection import train_test_split\n",
    "X_train, X_val, y_train, y_val = train_test_split(train_sc, t, test_size=0.2, random_state=0)\n",
    "\n",
    "print(X_train.shape, y_train.shape)\n",
    "print(X_val.shape, y_val.shape)\n",
    "print(test_sc.shape, test_sc.shape)"
   ]
  },
  {
   "cell_type": "markdown",
   "metadata": {},
   "source": [
    "# Machine Learning Models"
   ]
  },
  {
   "cell_type": "code",
   "execution_count": 19,
   "metadata": {},
   "outputs": [],
   "source": [
    "Model_Summary=pd.DataFrame()"
   ]
  },
  {
   "cell_type": "markdown",
   "metadata": {},
   "source": [
    "## 1. Lightgbm"
   ]
  },
  {
   "cell_type": "code",
   "execution_count": 26,
   "metadata": {},
   "outputs": [],
   "source": [
    "import lightgbm\n",
    "train_data=lightgbm.Dataset(X_train,y_train)\n",
    "valid_data=lightgbm.Dataset(X_val,y_val)"
   ]
  },
  {
   "cell_type": "code",
   "execution_count": 28,
   "metadata": {},
   "outputs": [],
   "source": [
    "params={'learning_rate':0.01,\n",
    "        'boosting_type':'gbdt',\n",
    "        'objective':'regression',\n",
    "        'metric':'rmse',\n",
    "        'sub_feature':0.5,\n",
    "        'num_leaves':180,\n",
    "        'feature_fraction': 0.5,\n",
    "        'bagging_fraction': 0.5,\n",
    "        'min_data':50,\n",
    "        'max_depth':-1,\n",
    "        'reg_alpha': 0.3, \n",
    "        'reg_lambda': 0.1, \n",
    "        'min_child_weight': 10, \n",
    "        'verbose': 1,\n",
    "        'nthread':5,\n",
    "        'max_bin':512,\n",
    "        'subsample_for_bin':200,\n",
    "        'min_split_gain':0.0001,\n",
    "        'min_child_samples':5\n",
    "       }"
   ]
  },
  {
   "cell_type": "code",
   "execution_count": 29,
   "metadata": {
    "scrolled": true
   },
   "outputs": [
    {
     "name": "stdout",
     "output_type": "stream",
     "text": [
      "Training until validation scores don't improve for 80 rounds.\n",
      "[10]\tvalid_0's rmse: 1.68329\n",
      "[20]\tvalid_0's rmse: 1.65379\n",
      "[30]\tvalid_0's rmse: 1.62585\n",
      "[40]\tvalid_0's rmse: 1.60281\n",
      "[50]\tvalid_0's rmse: 1.58241\n",
      "[60]\tvalid_0's rmse: 1.5628\n",
      "[70]\tvalid_0's rmse: 1.5459\n",
      "[80]\tvalid_0's rmse: 1.53187\n",
      "[90]\tvalid_0's rmse: 1.51927\n",
      "[100]\tvalid_0's rmse: 1.50833\n",
      "[110]\tvalid_0's rmse: 1.49785\n",
      "[120]\tvalid_0's rmse: 1.48871\n",
      "[130]\tvalid_0's rmse: 1.48048\n",
      "[140]\tvalid_0's rmse: 1.47291\n",
      "[150]\tvalid_0's rmse: 1.46649\n",
      "[160]\tvalid_0's rmse: 1.46096\n",
      "[170]\tvalid_0's rmse: 1.45499\n",
      "[180]\tvalid_0's rmse: 1.44949\n",
      "[190]\tvalid_0's rmse: 1.44445\n",
      "[200]\tvalid_0's rmse: 1.44019\n",
      "[210]\tvalid_0's rmse: 1.43617\n",
      "[220]\tvalid_0's rmse: 1.4328\n",
      "[230]\tvalid_0's rmse: 1.42932\n",
      "[240]\tvalid_0's rmse: 1.42637\n",
      "[250]\tvalid_0's rmse: 1.42363\n",
      "[260]\tvalid_0's rmse: 1.42086\n",
      "[270]\tvalid_0's rmse: 1.4183\n",
      "[280]\tvalid_0's rmse: 1.4167\n",
      "[290]\tvalid_0's rmse: 1.41482\n",
      "[300]\tvalid_0's rmse: 1.41316\n",
      "[310]\tvalid_0's rmse: 1.41174\n",
      "[320]\tvalid_0's rmse: 1.4106\n",
      "[330]\tvalid_0's rmse: 1.4095\n",
      "[340]\tvalid_0's rmse: 1.40899\n",
      "[350]\tvalid_0's rmse: 1.40854\n",
      "[360]\tvalid_0's rmse: 1.40794\n",
      "[370]\tvalid_0's rmse: 1.40756\n",
      "[380]\tvalid_0's rmse: 1.40684\n",
      "[390]\tvalid_0's rmse: 1.40617\n",
      "[400]\tvalid_0's rmse: 1.40584\n",
      "[410]\tvalid_0's rmse: 1.40577\n",
      "[420]\tvalid_0's rmse: 1.40499\n",
      "[430]\tvalid_0's rmse: 1.40489\n",
      "[440]\tvalid_0's rmse: 1.40492\n",
      "[450]\tvalid_0's rmse: 1.40443\n",
      "[460]\tvalid_0's rmse: 1.40451\n",
      "[470]\tvalid_0's rmse: 1.40416\n",
      "[480]\tvalid_0's rmse: 1.40397\n",
      "[490]\tvalid_0's rmse: 1.40339\n",
      "[500]\tvalid_0's rmse: 1.40332\n",
      "[510]\tvalid_0's rmse: 1.40306\n",
      "[520]\tvalid_0's rmse: 1.40302\n",
      "[530]\tvalid_0's rmse: 1.40269\n",
      "[540]\tvalid_0's rmse: 1.40266\n",
      "[550]\tvalid_0's rmse: 1.40244\n",
      "[560]\tvalid_0's rmse: 1.40272\n",
      "[570]\tvalid_0's rmse: 1.4023\n",
      "[580]\tvalid_0's rmse: 1.40207\n",
      "[590]\tvalid_0's rmse: 1.40217\n",
      "[600]\tvalid_0's rmse: 1.40219\n",
      "[610]\tvalid_0's rmse: 1.40248\n",
      "[620]\tvalid_0's rmse: 1.40268\n",
      "[630]\tvalid_0's rmse: 1.40287\n",
      "[640]\tvalid_0's rmse: 1.40274\n",
      "[650]\tvalid_0's rmse: 1.40293\n",
      "[660]\tvalid_0's rmse: 1.40283\n",
      "[670]\tvalid_0's rmse: 1.40321\n",
      "Early stopping, best iteration is:\n",
      "[594]\tvalid_0's rmse: 1.40196\n"
     ]
    }
   ],
   "source": [
    "lgbm = lightgbm.train(params,\n",
    "                 train_data,\n",
    "                 25000,\n",
    "                 valid_sets=valid_data,evals_result=None,\n",
    "                 early_stopping_rounds= 80,\n",
    "                 verbose_eval= 10\n",
    "                 )"
   ]
  },
  {
   "cell_type": "code",
   "execution_count": 30,
   "metadata": {},
   "outputs": [
    {
     "data": {
      "text/html": [
       "<div>\n",
       "<style scoped>\n",
       "    .dataframe tbody tr th:only-of-type {\n",
       "        vertical-align: middle;\n",
       "    }\n",
       "\n",
       "    .dataframe tbody tr th {\n",
       "        vertical-align: top;\n",
       "    }\n",
       "\n",
       "    .dataframe thead th {\n",
       "        text-align: right;\n",
       "    }\n",
       "</style>\n",
       "<table border=\"1\" class=\"dataframe\">\n",
       "  <thead>\n",
       "    <tr style=\"text-align: right;\">\n",
       "      <th></th>\n",
       "      <th>Model_Name</th>\n",
       "      <th>RMSLE</th>\n",
       "    </tr>\n",
       "  </thead>\n",
       "  <tbody>\n",
       "    <tr>\n",
       "      <th>0</th>\n",
       "      <td>CatBoostRegressor</td>\n",
       "      <td>1.449733</td>\n",
       "    </tr>\n",
       "    <tr>\n",
       "      <th>1</th>\n",
       "      <td>lightgbm</td>\n",
       "      <td>1.401956</td>\n",
       "    </tr>\n",
       "  </tbody>\n",
       "</table>\n",
       "</div>"
      ],
      "text/plain": [
       "          Model_Name     RMSLE\n",
       "0  CatBoostRegressor  1.449733\n",
       "1           lightgbm  1.401956"
      ]
     },
     "execution_count": 30,
     "metadata": {},
     "output_type": "execute_result"
    }
   ],
   "source": [
    "model_name='lightgbm'\n",
    "RMSLE=np.sqrt(mean_squared_error(y_val,lgbm.predict(X_val)))\n",
    "Model_Summary=Model_Summary.append({'Model_Name':model_name,'RMSLE':RMSLE},ignore_index=True)\n",
    "Model_Summary"
   ]
  },
  {
   "cell_type": "code",
   "execution_count": 29,
   "metadata": {},
   "outputs": [
    {
     "data": {
      "text/plain": [
       "array([1236035.77361614, 2025028.31139007, 3395527.3251378 , ...,\n",
       "        889721.93901169,  283838.89779106, 2029775.38726844])"
      ]
     },
     "execution_count": 29,
     "metadata": {},
     "output_type": "execute_result"
    }
   ],
   "source": [
    "pred_lgbm=np.expm1(lgbm.predict(test_sc))\n",
    "pred_lgbm"
   ]
  },
  {
   "cell_type": "markdown",
   "metadata": {},
   "source": [
    "## 2. CatBoostRegressor"
   ]
  },
  {
   "cell_type": "code",
   "execution_count": 20,
   "metadata": {},
   "outputs": [],
   "source": [
    "from catboost import CatBoostRegressor"
   ]
  },
  {
   "cell_type": "code",
   "execution_count": 22,
   "metadata": {},
   "outputs": [],
   "source": [
    "cb_model = CatBoostRegressor(iterations=500,\n",
    "                             learning_rate=0.1,\n",
    "                             depth=5,\n",
    "                             l2_leaf_reg=20,\n",
    "                             bootstrap_type='Bernoulli',\n",
    "                             subsample=0.6,\n",
    "                             eval_metric='RMSE',\n",
    "                             random_seed = 42,\n",
    "                             od_type='Iter',\n",
    "                             metric_period = 50,\n",
    "                             od_wait=45)"
   ]
  },
  {
   "cell_type": "code",
   "execution_count": 23,
   "metadata": {},
   "outputs": [
    {
     "name": "stdout",
     "output_type": "stream",
     "text": [
      "0:\tlearn: 13.1734018\ttest: 13.2419635\tbest: 13.2419635 (0)\ttotal: 384ms\tremaining: 3m 11s\n",
      "50:\tlearn: 1.6790864\ttest: 1.6631863\tbest: 1.6631863 (50)\ttotal: 10.8s\tremaining: 1m 34s\n",
      "100:\tlearn: 1.5105776\ttest: 1.5339704\tbest: 1.5339704 (100)\ttotal: 21.1s\tremaining: 1m 23s\n",
      "150:\tlearn: 1.4060365\ttest: 1.4878651\tbest: 1.4877407 (149)\ttotal: 31.6s\tremaining: 1m 12s\n",
      "200:\tlearn: 1.3456421\ttest: 1.4748221\tbest: 1.4748221 (200)\ttotal: 41.9s\tremaining: 1m 2s\n",
      "250:\tlearn: 1.3021953\ttest: 1.4699754\tbest: 1.4699754 (250)\ttotal: 52.3s\tremaining: 51.9s\n",
      "300:\tlearn: 1.2626050\ttest: 1.4626305\tbest: 1.4626305 (300)\ttotal: 1m 2s\tremaining: 41.4s\n",
      "350:\tlearn: 1.2301768\ttest: 1.4582470\tbest: 1.4578189 (341)\ttotal: 1m 12s\tremaining: 31s\n",
      "400:\tlearn: 1.2007596\ttest: 1.4558918\tbest: 1.4555656 (399)\ttotal: 1m 23s\tremaining: 20.6s\n",
      "450:\tlearn: 1.1747597\ttest: 1.4532322\tbest: 1.4531226 (447)\ttotal: 1m 33s\tremaining: 10.2s\n",
      "\n",
      "bestTest = 1.449732727\n",
      "bestIteration = 480\n",
      "\n",
      "Shrink model to first 481 iterations.\n"
     ]
    },
    {
     "data": {
      "text/plain": [
       "<catboost.core.CatBoostRegressor at 0x1a6569b8400>"
      ]
     },
     "execution_count": 23,
     "metadata": {},
     "output_type": "execute_result"
    }
   ],
   "source": [
    "cb_model.fit(X_train, y_train,\n",
    "             eval_set=(X_val, y_val),\n",
    "             use_best_model=True,\n",
    "             verbose=True)"
   ]
  },
  {
   "cell_type": "code",
   "execution_count": 24,
   "metadata": {},
   "outputs": [
    {
     "data": {
      "text/html": [
       "<div>\n",
       "<style scoped>\n",
       "    .dataframe tbody tr th:only-of-type {\n",
       "        vertical-align: middle;\n",
       "    }\n",
       "\n",
       "    .dataframe tbody tr th {\n",
       "        vertical-align: top;\n",
       "    }\n",
       "\n",
       "    .dataframe thead th {\n",
       "        text-align: right;\n",
       "    }\n",
       "</style>\n",
       "<table border=\"1\" class=\"dataframe\">\n",
       "  <thead>\n",
       "    <tr style=\"text-align: right;\">\n",
       "      <th></th>\n",
       "      <th>Model_Name</th>\n",
       "      <th>RMSLE</th>\n",
       "    </tr>\n",
       "  </thead>\n",
       "  <tbody>\n",
       "    <tr>\n",
       "      <th>0</th>\n",
       "      <td>CatBoostRegressor</td>\n",
       "      <td>1.449733</td>\n",
       "    </tr>\n",
       "  </tbody>\n",
       "</table>\n",
       "</div>"
      ],
      "text/plain": [
       "          Model_Name     RMSLE\n",
       "0  CatBoostRegressor  1.449733"
      ]
     },
     "execution_count": 24,
     "metadata": {},
     "output_type": "execute_result"
    }
   ],
   "source": [
    "model_name='CatBoostRegressor'\n",
    "RMSLE=np.sqrt(mean_squared_error(y_val,cb_model.predict(X_val)))\n",
    "Model_Summary=Model_Summary.append({'Model_Name':model_name,'RMSLE':RMSLE},ignore_index=True)\n",
    "Model_Summary"
   ]
  },
  {
   "cell_type": "code",
   "execution_count": 25,
   "metadata": {},
   "outputs": [
    {
     "data": {
      "text/plain": [
       "array([1112396.108769  , 1205793.70003429, 1637320.4494433 , ...,\n",
       "        816539.47213956,  500173.32646464, 1840858.68367049])"
      ]
     },
     "execution_count": 25,
     "metadata": {},
     "output_type": "execute_result"
    }
   ],
   "source": [
    "pred_cb=np.expm1(cb_model.predict(test_sc))\n",
    "pred_cb"
   ]
  },
  {
   "cell_type": "markdown",
   "metadata": {},
   "source": [
    "## 3. RandomForestRegressor"
   ]
  },
  {
   "cell_type": "code",
   "execution_count": 35,
   "metadata": {},
   "outputs": [],
   "source": [
    "from sklearn.ensemble import RandomForestRegressor"
   ]
  },
  {
   "cell_type": "code",
   "execution_count": 36,
   "metadata": {},
   "outputs": [],
   "source": [
    "rf_model = RandomForestRegressor(n_estimators=400, n_jobs=-1,oob_score = True,random_state =1, max_depth=8,\n",
    "                                 max_features = \"auto\",verbose=1,bootstrap=True,max_leaf_nodes=31)"
   ]
  },
  {
   "cell_type": "code",
   "execution_count": 37,
   "metadata": {},
   "outputs": [
    {
     "name": "stderr",
     "output_type": "stream",
     "text": [
      "[Parallel(n_jobs=-1)]: Done  42 tasks      | elapsed:   14.2s\n",
      "[Parallel(n_jobs=-1)]: Done 192 tasks      | elapsed:  1.1min\n",
      "[Parallel(n_jobs=-1)]: Done 400 out of 400 | elapsed:  2.2min finished\n"
     ]
    },
    {
     "data": {
      "text/plain": [
       "RandomForestRegressor(bootstrap=True, criterion='mse', max_depth=8,\n",
       "           max_features='auto', max_leaf_nodes=31,\n",
       "           min_impurity_decrease=0.0, min_impurity_split=None,\n",
       "           min_samples_leaf=1, min_samples_split=2,\n",
       "           min_weight_fraction_leaf=0.0, n_estimators=400, n_jobs=-1,\n",
       "           oob_score=True, random_state=1, verbose=1, warm_start=False)"
      ]
     },
     "execution_count": 37,
     "metadata": {},
     "output_type": "execute_result"
    }
   ],
   "source": [
    "rf_model.fit(X_train, y_train)"
   ]
  },
  {
   "cell_type": "code",
   "execution_count": 38,
   "metadata": {},
   "outputs": [
    {
     "name": "stderr",
     "output_type": "stream",
     "text": [
      "[Parallel(n_jobs=4)]: Done  42 tasks      | elapsed:    0.0s\n",
      "[Parallel(n_jobs=4)]: Done 192 tasks      | elapsed:    0.0s\n",
      "[Parallel(n_jobs=4)]: Done 400 out of 400 | elapsed:    0.0s finished\n"
     ]
    },
    {
     "data": {
      "text/html": [
       "<div>\n",
       "<style scoped>\n",
       "    .dataframe tbody tr th:only-of-type {\n",
       "        vertical-align: middle;\n",
       "    }\n",
       "\n",
       "    .dataframe tbody tr th {\n",
       "        vertical-align: top;\n",
       "    }\n",
       "\n",
       "    .dataframe thead th {\n",
       "        text-align: right;\n",
       "    }\n",
       "</style>\n",
       "<table border=\"1\" class=\"dataframe\">\n",
       "  <thead>\n",
       "    <tr style=\"text-align: right;\">\n",
       "      <th></th>\n",
       "      <th>Model_Name</th>\n",
       "      <th>RMSLE</th>\n",
       "    </tr>\n",
       "  </thead>\n",
       "  <tbody>\n",
       "    <tr>\n",
       "      <th>0</th>\n",
       "      <td>lightgbm</td>\n",
       "      <td>1.402756</td>\n",
       "    </tr>\n",
       "    <tr>\n",
       "      <th>1</th>\n",
       "      <td>CatBoostRegressor</td>\n",
       "      <td>1.466294</td>\n",
       "    </tr>\n",
       "    <tr>\n",
       "      <th>2</th>\n",
       "      <td>RandomForestRegressor</td>\n",
       "      <td>1.499233</td>\n",
       "    </tr>\n",
       "  </tbody>\n",
       "</table>\n",
       "</div>"
      ],
      "text/plain": [
       "              Model_Name     RMSLE\n",
       "0               lightgbm  1.402756\n",
       "1      CatBoostRegressor  1.466294\n",
       "2  RandomForestRegressor  1.499233"
      ]
     },
     "execution_count": 38,
     "metadata": {},
     "output_type": "execute_result"
    }
   ],
   "source": [
    "model_name='RandomForestRegressor'\n",
    "RMSLE=np.sqrt(mean_squared_error(y_val,rf_model.predict(X_val)))\n",
    "Model_Summary=Model_Summary.append({'Model_Name':model_name,'RMSLE':RMSLE},ignore_index=True)\n",
    "Model_Summary"
   ]
  },
  {
   "cell_type": "code",
   "execution_count": 40,
   "metadata": {},
   "outputs": [
    {
     "name": "stderr",
     "output_type": "stream",
     "text": [
      "[Parallel(n_jobs=4)]: Done  42 tasks      | elapsed:    0.0s\n",
      "[Parallel(n_jobs=4)]: Done 192 tasks      | elapsed:    0.0s\n",
      "[Parallel(n_jobs=4)]: Done 400 out of 400 | elapsed:    0.1s finished\n"
     ]
    },
    {
     "data": {
      "text/plain": [
       "array([1741577.35385211, 1734606.28489647, 2182935.61593154, ...,\n",
       "       1302836.89466743,  814948.62691805, 1734606.28489647])"
      ]
     },
     "execution_count": 40,
     "metadata": {},
     "output_type": "execute_result"
    }
   ],
   "source": [
    "pred_rf=np.expm1(rf_model.predict(test_sc))\n",
    "pred_rf"
   ]
  },
  {
   "cell_type": "markdown",
   "metadata": {},
   "source": [
    "## 4. Keras Neural Network"
   ]
  },
  {
   "cell_type": "code",
   "execution_count": 31,
   "metadata": {},
   "outputs": [
    {
     "name": "stderr",
     "output_type": "stream",
     "text": [
      "Using TensorFlow backend.\n"
     ]
    }
   ],
   "source": [
    "from keras.layers import Dense,Dropout,Input\n",
    "from keras.models import Sequential,Model\n",
    "from keras.callbacks import EarlyStopping,ReduceLROnPlateau\n",
    "from keras.losses import MSLE,mse,msle"
   ]
  },
  {
   "cell_type": "code",
   "execution_count": 32,
   "metadata": {},
   "outputs": [],
   "source": [
    "in_shape=X_train[0].shape\n",
    "b_size=128"
   ]
  },
  {
   "cell_type": "code",
   "execution_count": 33,
   "metadata": {},
   "outputs": [],
   "source": [
    "input1=Input(shape=in_shape)\n",
    "x1=Dense(512,activation='relu',kernel_initializer='normal')(input1)\n",
    "x2=Dense(256,activation='relu',kernel_initializer='normal')(x1)\n",
    "x3=Dropout(0.2)(x2)\n",
    "x4=Dense(256,activation='relu',kernel_initializer='normal')(x3)\n",
    "x5=Dropout(0.2)(x4)\n",
    "x6=Dense(256,activation='relu',kernel_initializer='normal')(x5)\n",
    "x7=Dropout(0.2)(x6)\n",
    "x = Dense(1, activation='linear',kernel_initializer='normal')(x7)\n",
    "keras_model = Model(inputs=input1, outputs=x)"
   ]
  },
  {
   "cell_type": "code",
   "execution_count": 34,
   "metadata": {},
   "outputs": [],
   "source": [
    "keras_model.compile(optimizer='adam',loss='mse',metrics=['mse'])"
   ]
  },
  {
   "cell_type": "code",
   "execution_count": 35,
   "metadata": {},
   "outputs": [],
   "source": [
    "Rlr = ReduceLROnPlateau(monitor='val_loss',factor=0.1,patience=3,verbose=1,mode='auto',min_lr=0.0001)\n",
    "Es = EarlyStopping(monitor='val_loss', \n",
    "                   min_delta=0.00005, \n",
    "                   patience=3, \n",
    "                   verbose=1, \n",
    "                   mode='auto')"
   ]
  },
  {
   "cell_type": "code",
   "execution_count": 37,
   "metadata": {},
   "outputs": [
    {
     "name": "stdout",
     "output_type": "stream",
     "text": [
      "Train on 3567 samples, validate on 892 samples\n",
      "Epoch 1/50\n",
      "3567/3567 [==============================] - 1s 404us/step - loss: 2.3754 - mean_squared_error: 2.3754 - val_loss: 5.3016 - val_mean_squared_error: 5.3016\n",
      "Epoch 2/50\n",
      "3567/3567 [==============================] - 1s 396us/step - loss: 2.2973 - mean_squared_error: 2.2973 - val_loss: 5.3690 - val_mean_squared_error: 5.3690\n",
      "Epoch 3/50\n",
      "3567/3567 [==============================] - 1s 401us/step - loss: 2.2400 - mean_squared_error: 2.2400 - val_loss: 5.2742 - val_mean_squared_error: 5.2742\n",
      "Epoch 4/50\n",
      "3567/3567 [==============================] - 1s 393us/step - loss: 2.1379 - mean_squared_error: 2.1379 - val_loss: 5.7217 - val_mean_squared_error: 5.7217\n",
      "Epoch 5/50\n",
      "3567/3567 [==============================] - 1s 389us/step - loss: 2.1647 - mean_squared_error: 2.1647 - val_loss: 5.3379 - val_mean_squared_error: 5.3379\n",
      "Epoch 6/50\n",
      "3567/3567 [==============================] - 1s 389us/step - loss: 2.1694 - mean_squared_error: 2.1694 - val_loss: 5.2147 - val_mean_squared_error: 5.2147\n",
      "Epoch 7/50\n",
      "3567/3567 [==============================] - 1s 393us/step - loss: 2.0450 - mean_squared_error: 2.0450 - val_loss: 5.4075 - val_mean_squared_error: 5.4075\n",
      "Epoch 8/50\n",
      "3567/3567 [==============================] - 1s 399us/step - loss: 2.0392 - mean_squared_error: 2.0392 - val_loss: 5.2536 - val_mean_squared_error: 5.2536\n",
      "Epoch 9/50\n",
      "3567/3567 [==============================] - 1s 397us/step - loss: 2.0094 - mean_squared_error: 2.0094 - val_loss: 5.1618 - val_mean_squared_error: 5.1618\n",
      "Epoch 10/50\n",
      "3567/3567 [==============================] - 1s 395us/step - loss: 1.9572 - mean_squared_error: 1.9572 - val_loss: 5.1170 - val_mean_squared_error: 5.1170\n",
      "Epoch 11/50\n",
      "3567/3567 [==============================] - 1s 397us/step - loss: 2.0424 - mean_squared_error: 2.0424 - val_loss: 5.0288 - val_mean_squared_error: 5.0288\n",
      "Epoch 12/50\n",
      "3567/3567 [==============================] - 1s 396us/step - loss: 1.9817 - mean_squared_error: 1.9817 - val_loss: 5.0835 - val_mean_squared_error: 5.0835\n",
      "Epoch 13/50\n",
      "3567/3567 [==============================] - 1s 393us/step - loss: 1.9432 - mean_squared_error: 1.9432 - val_loss: 5.0215 - val_mean_squared_error: 5.0215\n",
      "Epoch 14/50\n",
      "3567/3567 [==============================] - 1s 392us/step - loss: 1.8801 - mean_squared_error: 1.8801 - val_loss: 5.3228 - val_mean_squared_error: 5.3228\n",
      "Epoch 15/50\n",
      "3567/3567 [==============================] - 1s 396us/step - loss: 1.8426 - mean_squared_error: 1.8426 - val_loss: 5.1637 - val_mean_squared_error: 5.1637\n",
      "Epoch 16/50\n",
      "3567/3567 [==============================] - 1s 392us/step - loss: 1.7773 - mean_squared_error: 1.7773 - val_loss: 5.0309 - val_mean_squared_error: 5.0309\n",
      "Epoch 17/50\n",
      "3567/3567 [==============================] - 1s 392us/step - loss: 1.7542 - mean_squared_error: 1.7542 - val_loss: 4.9452 - val_mean_squared_error: 4.9452\n",
      "Epoch 18/50\n",
      "3567/3567 [==============================] - 1s 393us/step - loss: 1.8552 - mean_squared_error: 1.8552 - val_loss: 4.9433 - val_mean_squared_error: 4.9433\n",
      "Epoch 19/50\n",
      "3567/3567 [==============================] - 1s 397us/step - loss: 1.7461 - mean_squared_error: 1.7461 - val_loss: 4.6540 - val_mean_squared_error: 4.6540\n",
      "Epoch 20/50\n",
      "3567/3567 [==============================] - 1s 400us/step - loss: 1.7057 - mean_squared_error: 1.7057 - val_loss: 4.7592 - val_mean_squared_error: 4.7592\n",
      "Epoch 21/50\n",
      "3567/3567 [==============================] - 1s 400us/step - loss: 1.5956 - mean_squared_error: 1.5956 - val_loss: 4.8113 - val_mean_squared_error: 4.8113\n",
      "Epoch 22/50\n",
      "3567/3567 [==============================] - 1s 400us/step - loss: 1.6214 - mean_squared_error: 1.6214 - val_loss: 4.7047 - val_mean_squared_error: 4.7047\n",
      "Epoch 23/50\n",
      "3567/3567 [==============================] - 1s 397us/step - loss: 1.6640 - mean_squared_error: 1.6640 - val_loss: 4.7120 - val_mean_squared_error: 4.7120\n",
      "\n",
      "Epoch 00023: ReduceLROnPlateau reducing learning rate to 0.00010000000474974513.\n",
      "Epoch 24/50\n",
      "3567/3567 [==============================] - 1s 399us/step - loss: 1.5544 - mean_squared_error: 1.5544 - val_loss: 4.6223 - val_mean_squared_error: 4.6223\n",
      "Epoch 25/50\n",
      "3567/3567 [==============================] - 1s 397us/step - loss: 1.5246 - mean_squared_error: 1.5246 - val_loss: 4.6348 - val_mean_squared_error: 4.6348\n",
      "Epoch 26/50\n",
      "3567/3567 [==============================] - 1s 401us/step - loss: 1.4548 - mean_squared_error: 1.4548 - val_loss: 4.6590 - val_mean_squared_error: 4.6590\n",
      "Epoch 27/50\n",
      "3567/3567 [==============================] - 1s 406us/step - loss: 1.4168 - mean_squared_error: 1.4168 - val_loss: 4.6548 - val_mean_squared_error: 4.6548\n",
      "Epoch 28/50\n",
      "3567/3567 [==============================] - 1s 403us/step - loss: 1.4268 - mean_squared_error: 1.4268 - val_loss: 4.6884 - val_mean_squared_error: 4.6884\n",
      "\n",
      "Epoch 00028: ReduceLROnPlateau reducing learning rate to 0.0001.\n",
      "Epoch 29/50\n",
      "3567/3567 [==============================] - 1s 407us/step - loss: 1.3915 - mean_squared_error: 1.3915 - val_loss: 4.6808 - val_mean_squared_error: 4.6808\n",
      "Epoch 30/50\n",
      "3567/3567 [==============================] - 2s 427us/step - loss: 1.3240 - mean_squared_error: 1.3240 - val_loss: 4.6997 - val_mean_squared_error: 4.6997\n",
      "Epoch 31/50\n",
      "3567/3567 [==============================] - 1s 398us/step - loss: 1.3654 - mean_squared_error: 1.3654 - val_loss: 4.7014 - val_mean_squared_error: 4.7014\n",
      "Epoch 32/50\n",
      "3567/3567 [==============================] - 1s 402us/step - loss: 1.3254 - mean_squared_error: 1.3254 - val_loss: 4.6910 - val_mean_squared_error: 4.6910\n",
      "Epoch 33/50\n",
      "3567/3567 [==============================] - 1s 397us/step - loss: 1.3590 - mean_squared_error: 1.3590 - val_loss: 4.6738 - val_mean_squared_error: 4.6738\n",
      "Epoch 34/50\n",
      "3567/3567 [==============================] - 1s 405us/step - loss: 1.3219 - mean_squared_error: 1.3219 - val_loss: 4.6957 - val_mean_squared_error: 4.6957\n",
      "Epoch 35/50\n",
      "3567/3567 [==============================] - 1s 409us/step - loss: 1.3461 - mean_squared_error: 1.3461 - val_loss: 4.6843 - val_mean_squared_error: 4.6843\n",
      "Epoch 36/50\n",
      "3567/3567 [==============================] - 1s 404us/step - loss: 1.3345 - mean_squared_error: 1.3345 - val_loss: 4.7145 - val_mean_squared_error: 4.7145\n",
      "Epoch 37/50\n",
      "3567/3567 [==============================] - 1s 411us/step - loss: 1.2568 - mean_squared_error: 1.2568 - val_loss: 4.7105 - val_mean_squared_error: 4.7105\n",
      "Epoch 38/50\n",
      "3567/3567 [==============================] - 1s 413us/step - loss: 1.2107 - mean_squared_error: 1.2107 - val_loss: 4.7023 - val_mean_squared_error: 4.7023\n",
      "Epoch 39/50\n",
      "3567/3567 [==============================] - 1s 400us/step - loss: 1.2690 - mean_squared_error: 1.2690 - val_loss: 4.7014 - val_mean_squared_error: 4.7014\n",
      "Epoch 40/50\n",
      "3567/3567 [==============================] - 1s 403us/step - loss: 1.2225 - mean_squared_error: 1.2225 - val_loss: 4.7052 - val_mean_squared_error: 4.7052\n",
      "Epoch 41/50\n",
      "3567/3567 [==============================] - 1s 405us/step - loss: 1.3217 - mean_squared_error: 1.3217 - val_loss: 4.7026 - val_mean_squared_error: 4.7026\n",
      "Epoch 42/50\n",
      "3567/3567 [==============================] - 1s 406us/step - loss: 1.2584 - mean_squared_error: 1.2584 - val_loss: 4.7107 - val_mean_squared_error: 4.7107\n",
      "Epoch 43/50\n",
      "3567/3567 [==============================] - 1s 412us/step - loss: 1.2136 - mean_squared_error: 1.2136 - val_loss: 4.7316 - val_mean_squared_error: 4.7316\n",
      "Epoch 44/50\n",
      "3567/3567 [==============================] - 1s 406us/step - loss: 1.2431 - mean_squared_error: 1.2431 - val_loss: 4.7259 - val_mean_squared_error: 4.7259\n",
      "Epoch 45/50\n",
      "3567/3567 [==============================] - 1s 405us/step - loss: 1.2152 - mean_squared_error: 1.2152 - val_loss: 4.7269 - val_mean_squared_error: 4.7269\n",
      "Epoch 46/50\n",
      "3567/3567 [==============================] - 1s 402us/step - loss: 1.2478 - mean_squared_error: 1.2478 - val_loss: 4.7485 - val_mean_squared_error: 4.7485\n",
      "Epoch 47/50\n",
      "3567/3567 [==============================] - 1s 412us/step - loss: 1.2391 - mean_squared_error: 1.2391 - val_loss: 4.7536 - val_mean_squared_error: 4.7536\n",
      "Epoch 48/50\n",
      "3567/3567 [==============================] - 2s 425us/step - loss: 1.2360 - mean_squared_error: 1.2360 - val_loss: 4.7566 - val_mean_squared_error: 4.7566\n"
     ]
    },
    {
     "name": "stdout",
     "output_type": "stream",
     "text": [
      "Epoch 49/50\n",
      "3567/3567 [==============================] - 1s 388us/step - loss: 1.2468 - mean_squared_error: 1.2468 - val_loss: 4.7880 - val_mean_squared_error: 4.7880\n",
      "Epoch 50/50\n",
      "3567/3567 [==============================] - 1s 399us/step - loss: 1.2772 - mean_squared_error: 1.2772 - val_loss: 4.7711 - val_mean_squared_error: 4.7711\n"
     ]
    }
   ],
   "source": [
    "history = keras_model.fit(X_train, y_train, \n",
    "          epochs=50,\n",
    "          batch_size=b_size,\n",
    "          callbacks=[Rlr],\n",
    "          validation_data=(X_val, y_val))"
   ]
  },
  {
   "cell_type": "code",
   "execution_count": 38,
   "metadata": {},
   "outputs": [
    {
     "data": {
      "text/html": [
       "<div>\n",
       "<style scoped>\n",
       "    .dataframe tbody tr th:only-of-type {\n",
       "        vertical-align: middle;\n",
       "    }\n",
       "\n",
       "    .dataframe tbody tr th {\n",
       "        vertical-align: top;\n",
       "    }\n",
       "\n",
       "    .dataframe thead th {\n",
       "        text-align: right;\n",
       "    }\n",
       "</style>\n",
       "<table border=\"1\" class=\"dataframe\">\n",
       "  <thead>\n",
       "    <tr style=\"text-align: right;\">\n",
       "      <th></th>\n",
       "      <th>Model_Name</th>\n",
       "      <th>RMSLE</th>\n",
       "    </tr>\n",
       "  </thead>\n",
       "  <tbody>\n",
       "    <tr>\n",
       "      <th>0</th>\n",
       "      <td>CatBoostRegressor</td>\n",
       "      <td>1.449733</td>\n",
       "    </tr>\n",
       "    <tr>\n",
       "      <th>1</th>\n",
       "      <td>lightgbm</td>\n",
       "      <td>1.401956</td>\n",
       "    </tr>\n",
       "    <tr>\n",
       "      <th>2</th>\n",
       "      <td>Keras_ANN</td>\n",
       "      <td>2.184278</td>\n",
       "    </tr>\n",
       "  </tbody>\n",
       "</table>\n",
       "</div>"
      ],
      "text/plain": [
       "          Model_Name     RMSLE\n",
       "0  CatBoostRegressor  1.449733\n",
       "1           lightgbm  1.401956\n",
       "2          Keras_ANN  2.184278"
      ]
     },
     "execution_count": 38,
     "metadata": {},
     "output_type": "execute_result"
    }
   ],
   "source": [
    "model_name='Keras_ANN'\n",
    "RMSLE=np.sqrt(mean_squared_error(y_val,keras_model.predict(X_val)))\n",
    "Model_Summary=Model_Summary.append({'Model_Name':model_name,'RMSLE':RMSLE},ignore_index=True)\n",
    "Model_Summary"
   ]
  },
  {
   "cell_type": "code",
   "execution_count": null,
   "metadata": {},
   "outputs": [],
   "source": [
    "pred_KNN=np.expm1(keras_model.predict(test_sc))\n",
    "pred_KNN"
   ]
  },
  {
   "cell_type": "code",
   "execution_count": null,
   "metadata": {},
   "outputs": [],
   "source": []
  },
  {
   "cell_type": "markdown",
   "metadata": {},
   "source": [
    "# Generating Submision File"
   ]
  },
  {
   "cell_type": "markdown",
   "metadata": {},
   "source": [
    "**generating submission file for 3 model**"
   ]
  },
  {
   "cell_type": "code",
   "execution_count": 43,
   "metadata": {
    "scrolled": true
   },
   "outputs": [
    {
     "data": {
      "text/html": [
       "<div>\n",
       "<style scoped>\n",
       "    .dataframe tbody tr th:only-of-type {\n",
       "        vertical-align: middle;\n",
       "    }\n",
       "\n",
       "    .dataframe tbody tr th {\n",
       "        vertical-align: top;\n",
       "    }\n",
       "\n",
       "    .dataframe thead th {\n",
       "        text-align: right;\n",
       "    }\n",
       "</style>\n",
       "<table border=\"1\" class=\"dataframe\">\n",
       "  <thead>\n",
       "    <tr style=\"text-align: right;\">\n",
       "      <th></th>\n",
       "      <th>Model_Name</th>\n",
       "      <th>RMSLE</th>\n",
       "    </tr>\n",
       "  </thead>\n",
       "  <tbody>\n",
       "    <tr>\n",
       "      <th>0</th>\n",
       "      <td>lightgbm</td>\n",
       "      <td>1.402756</td>\n",
       "    </tr>\n",
       "    <tr>\n",
       "      <th>1</th>\n",
       "      <td>CatBoostRegressor</td>\n",
       "      <td>1.466294</td>\n",
       "    </tr>\n",
       "    <tr>\n",
       "      <th>2</th>\n",
       "      <td>RandomForestRegressor</td>\n",
       "      <td>1.499233</td>\n",
       "    </tr>\n",
       "  </tbody>\n",
       "</table>\n",
       "</div>"
      ],
      "text/plain": [
       "              Model_Name     RMSLE\n",
       "0               lightgbm  1.402756\n",
       "1      CatBoostRegressor  1.466294\n",
       "2  RandomForestRegressor  1.499233"
      ]
     },
     "execution_count": 43,
     "metadata": {},
     "output_type": "execute_result"
    }
   ],
   "source": [
    "Model_Summary"
   ]
  },
  {
   "cell_type": "code",
   "execution_count": 41,
   "metadata": {},
   "outputs": [
    {
     "data": {
      "text/html": [
       "<div>\n",
       "<style scoped>\n",
       "    .dataframe tbody tr th:only-of-type {\n",
       "        vertical-align: middle;\n",
       "    }\n",
       "\n",
       "    .dataframe tbody tr th {\n",
       "        vertical-align: top;\n",
       "    }\n",
       "\n",
       "    .dataframe thead th {\n",
       "        text-align: right;\n",
       "    }\n",
       "</style>\n",
       "<table border=\"1\" class=\"dataframe\">\n",
       "  <thead>\n",
       "    <tr style=\"text-align: right;\">\n",
       "      <th></th>\n",
       "      <th>ID</th>\n",
       "      <th>target</th>\n",
       "    </tr>\n",
       "  </thead>\n",
       "  <tbody>\n",
       "    <tr>\n",
       "      <th>0</th>\n",
       "      <td>000137c73</td>\n",
       "      <td>1.180227e+06</td>\n",
       "    </tr>\n",
       "    <tr>\n",
       "      <th>1</th>\n",
       "      <td>00021489f</td>\n",
       "      <td>1.813976e+06</td>\n",
       "    </tr>\n",
       "    <tr>\n",
       "      <th>2</th>\n",
       "      <td>0004d7953</td>\n",
       "      <td>2.505474e+06</td>\n",
       "    </tr>\n",
       "    <tr>\n",
       "      <th>3</th>\n",
       "      <td>00056a333</td>\n",
       "      <td>4.521924e+06</td>\n",
       "    </tr>\n",
       "    <tr>\n",
       "      <th>4</th>\n",
       "      <td>00056d8eb</td>\n",
       "      <td>1.552905e+06</td>\n",
       "    </tr>\n",
       "  </tbody>\n",
       "</table>\n",
       "</div>"
      ],
      "text/plain": [
       "          ID        target\n",
       "0  000137c73  1.180227e+06\n",
       "1  00021489f  1.813976e+06\n",
       "2  0004d7953  2.505474e+06\n",
       "3  00056a333  4.521924e+06\n",
       "4  00056d8eb  1.552905e+06"
      ]
     },
     "execution_count": 41,
     "metadata": {},
     "output_type": "execute_result"
    }
   ],
   "source": [
    "sub=pd.read_csv('../1.All_datasets/Santander_Value_Prediction_Challenge/sample_submission.csv')\n",
    "sub.target=(pred_lgbm+pred_cb+pred_rf)/3.0\n",
    "sub.head()"
   ]
  },
  {
   "cell_type": "code",
   "execution_count": 42,
   "metadata": {},
   "outputs": [],
   "source": [
    "sub.to_csv('sub1.csv',index=False)"
   ]
  },
  {
   "cell_type": "code",
   "execution_count": null,
   "metadata": {},
   "outputs": [],
   "source": []
  }
 ],
 "metadata": {
  "kernelspec": {
   "display_name": "Python 3",
   "language": "python",
   "name": "python3"
  },
  "language_info": {
   "codemirror_mode": {
    "name": "ipython",
    "version": 3
   },
   "file_extension": ".py",
   "mimetype": "text/x-python",
   "name": "python",
   "nbconvert_exporter": "python",
   "pygments_lexer": "ipython3",
   "version": "3.6.6"
  }
 },
 "nbformat": 4,
 "nbformat_minor": 2
}
